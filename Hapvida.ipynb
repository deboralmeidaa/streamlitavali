{
 "cells": [
  {
   "cell_type": "code",
   "execution_count": 1,
   "metadata": {},
   "outputs": [],
   "source": [
    "import pandas as pd\n",
    "import plotly.express as px"
   ]
  },
  {
   "cell_type": "code",
   "execution_count": 2,
   "metadata": {},
   "outputs": [],
   "source": [
    "df = pd.read_csv(\"RECLAMEAQUI_HAPVIDA.csv\")"
   ]
  },
  {
   "cell_type": "code",
   "execution_count": 3,
   "metadata": {},
   "outputs": [
    {
     "data": {
      "text/html": [
       "<div>\n",
       "<style scoped>\n",
       "    .dataframe tbody tr th:only-of-type {\n",
       "        vertical-align: middle;\n",
       "    }\n",
       "\n",
       "    .dataframe tbody tr th {\n",
       "        vertical-align: top;\n",
       "    }\n",
       "\n",
       "    .dataframe thead th {\n",
       "        text-align: right;\n",
       "    }\n",
       "</style>\n",
       "<table border=\"1\" class=\"dataframe\">\n",
       "  <thead>\n",
       "    <tr style=\"text-align: right;\">\n",
       "      <th></th>\n",
       "      <th>ID</th>\n",
       "      <th>TEMA</th>\n",
       "      <th>LOCAL</th>\n",
       "      <th>TEMPO</th>\n",
       "      <th>CATEGORIA</th>\n",
       "      <th>STATUS</th>\n",
       "      <th>DESCRICAO</th>\n",
       "      <th>URL</th>\n",
       "      <th>ANO</th>\n",
       "      <th>MES</th>\n",
       "      <th>DIA</th>\n",
       "      <th>DIA_DO_ANO</th>\n",
       "      <th>SEMANA_DO_ANO</th>\n",
       "      <th>DIA_DA_SEMANA</th>\n",
       "      <th>TRIMETRES</th>\n",
       "      <th>CASOS</th>\n",
       "    </tr>\n",
       "  </thead>\n",
       "  <tbody>\n",
       "    <tr>\n",
       "      <th>0</th>\n",
       "      <td>149490335</td>\n",
       "      <td>TEMPO DE ATENDIMENTO</td>\n",
       "      <td>Recife - PE</td>\n",
       "      <td>2022-01-09</td>\n",
       "      <td>Demora na execução&lt;-&gt;Plano&lt;-&gt;Planos de Saúde&lt;-...</td>\n",
       "      <td>Não respondida</td>\n",
       "      <td>Acabei de sair de uma urgência por causa de at...</td>\n",
       "      <td>https://www.reclameaqui.com.br//hapvida-saude/...</td>\n",
       "      <td>2022</td>\n",
       "      <td>1</td>\n",
       "      <td>9</td>\n",
       "      <td>9</td>\n",
       "      <td>1</td>\n",
       "      <td>6</td>\n",
       "      <td>1</td>\n",
       "      <td>66</td>\n",
       "    </tr>\n",
       "    <tr>\n",
       "      <th>1</th>\n",
       "      <td>149499817</td>\n",
       "      <td>Hapvida não tem nutrólogo</td>\n",
       "      <td>Salvador - BA</td>\n",
       "      <td>2022-01-09</td>\n",
       "      <td>Planos de saúde&lt;-&gt;Qualidade do serviço prestad...</td>\n",
       "      <td>Não respondida</td>\n",
       "      <td>O Hapvida diz que fornece o serviço de nutrólo...</td>\n",
       "      <td>https://www.reclameaqui.com.br//hapvida-saude/...</td>\n",
       "      <td>2022</td>\n",
       "      <td>1</td>\n",
       "      <td>9</td>\n",
       "      <td>9</td>\n",
       "      <td>1</td>\n",
       "      <td>6</td>\n",
       "      <td>1</td>\n",
       "      <td>66</td>\n",
       "    </tr>\n",
       "    <tr>\n",
       "      <th>2</th>\n",
       "      <td>149498293</td>\n",
       "      <td>Descaso de tratamento de Hemodiálise</td>\n",
       "      <td>Olinda - PE</td>\n",
       "      <td>2022-01-09</td>\n",
       "      <td>Demora para autorização de consultas, exames e...</td>\n",
       "      <td>Respondida</td>\n",
       "      <td>Meu irmão Wagner Santiago, estava internado de...</td>\n",
       "      <td>https://www.reclameaqui.com.br//hapvida-saude/...</td>\n",
       "      <td>2022</td>\n",
       "      <td>1</td>\n",
       "      <td>9</td>\n",
       "      <td>9</td>\n",
       "      <td>1</td>\n",
       "      <td>6</td>\n",
       "      <td>1</td>\n",
       "      <td>66</td>\n",
       "    </tr>\n",
       "    <tr>\n",
       "      <th>3</th>\n",
       "      <td>149495455</td>\n",
       "      <td>DESORGANIZAÇÃO E FALTA DE RESOLUÇÃO DE PROBLEMA</td>\n",
       "      <td>Goiânia - GO</td>\n",
       "      <td>2022-01-09</td>\n",
       "      <td>Demora na execução&lt;-&gt;Planos de saúde&lt;-&gt;Planos ...</td>\n",
       "      <td>Não respondida</td>\n",
       "      <td>Agendei pelo chat um procedimento onde fui bem...</td>\n",
       "      <td>https://www.reclameaqui.com.br//hapvida-saude/...</td>\n",
       "      <td>2022</td>\n",
       "      <td>1</td>\n",
       "      <td>9</td>\n",
       "      <td>9</td>\n",
       "      <td>1</td>\n",
       "      <td>6</td>\n",
       "      <td>1</td>\n",
       "      <td>66</td>\n",
       "    </tr>\n",
       "    <tr>\n",
       "      <th>4</th>\n",
       "      <td>149495285</td>\n",
       "      <td>Liberação de Procedimento</td>\n",
       "      <td>Fortaleza - CE</td>\n",
       "      <td>2022-01-09</td>\n",
       "      <td>Planos de saúde&lt;-&gt;Planos de Saúde&lt;-&gt;Hapvida Sa...</td>\n",
       "      <td>Respondida</td>\n",
       "      <td>Paguei fatura do plano em atraso e tal atraso ...</td>\n",
       "      <td>https://www.reclameaqui.com.br//hapvida-saude/...</td>\n",
       "      <td>2022</td>\n",
       "      <td>1</td>\n",
       "      <td>9</td>\n",
       "      <td>9</td>\n",
       "      <td>1</td>\n",
       "      <td>6</td>\n",
       "      <td>1</td>\n",
       "      <td>66</td>\n",
       "    </tr>\n",
       "  </tbody>\n",
       "</table>\n",
       "</div>"
      ],
      "text/plain": [
       "          ID                                             TEMA           LOCAL  \\\n",
       "0  149490335                            TEMPO DE ATENDIMENTO      Recife - PE   \n",
       "1  149499817                       Hapvida não tem nutrólogo    Salvador - BA   \n",
       "2  149498293             Descaso de tratamento de Hemodiálise     Olinda - PE   \n",
       "3  149495455  DESORGANIZAÇÃO E FALTA DE RESOLUÇÃO DE PROBLEMA    Goiânia - GO   \n",
       "4  149495285                       Liberação de Procedimento   Fortaleza - CE   \n",
       "\n",
       "        TEMPO                                          CATEGORIA  \\\n",
       "0  2022-01-09  Demora na execução<->Plano<->Planos de Saúde<-...   \n",
       "1  2022-01-09  Planos de saúde<->Qualidade do serviço prestad...   \n",
       "2  2022-01-09  Demora para autorização de consultas, exames e...   \n",
       "3  2022-01-09  Demora na execução<->Planos de saúde<->Planos ...   \n",
       "4  2022-01-09  Planos de saúde<->Planos de Saúde<->Hapvida Sa...   \n",
       "\n",
       "           STATUS                                          DESCRICAO  \\\n",
       "0  Não respondida  Acabei de sair de uma urgência por causa de at...   \n",
       "1  Não respondida  O Hapvida diz que fornece o serviço de nutrólo...   \n",
       "2      Respondida  Meu irmão Wagner Santiago, estava internado de...   \n",
       "3  Não respondida  Agendei pelo chat um procedimento onde fui bem...   \n",
       "4      Respondida  Paguei fatura do plano em atraso e tal atraso ...   \n",
       "\n",
       "                                                 URL   ANO  MES  DIA  \\\n",
       "0  https://www.reclameaqui.com.br//hapvida-saude/...  2022    1    9   \n",
       "1  https://www.reclameaqui.com.br//hapvida-saude/...  2022    1    9   \n",
       "2  https://www.reclameaqui.com.br//hapvida-saude/...  2022    1    9   \n",
       "3  https://www.reclameaqui.com.br//hapvida-saude/...  2022    1    9   \n",
       "4  https://www.reclameaqui.com.br//hapvida-saude/...  2022    1    9   \n",
       "\n",
       "   DIA_DO_ANO  SEMANA_DO_ANO  DIA_DA_SEMANA  TRIMETRES  CASOS  \n",
       "0           9              1              6          1     66  \n",
       "1           9              1              6          1     66  \n",
       "2           9              1              6          1     66  \n",
       "3           9              1              6          1     66  \n",
       "4           9              1              6          1     66  "
      ]
     },
     "execution_count": 3,
     "metadata": {},
     "output_type": "execute_result"
    }
   ],
   "source": [
    "df.head(5)"
   ]
  },
  {
   "cell_type": "code",
   "execution_count": 4,
   "metadata": {},
   "outputs": [],
   "source": [
    "df['TEMPO'] = pd.to_datetime(df['TEMPO'])"
   ]
  },
  {
   "cell_type": "code",
   "execution_count": 5,
   "metadata": {},
   "outputs": [
    {
     "name": "stdout",
     "output_type": "stream",
     "text": [
      "<class 'pandas.core.frame.DataFrame'>\n",
      "RangeIndex: 1016 entries, 0 to 1015\n",
      "Data columns (total 16 columns):\n",
      " #   Column         Non-Null Count  Dtype         \n",
      "---  ------         --------------  -----         \n",
      " 0   ID             1016 non-null   int64         \n",
      " 1   TEMA           1016 non-null   object        \n",
      " 2   LOCAL          1016 non-null   object        \n",
      " 3   TEMPO          1016 non-null   datetime64[ns]\n",
      " 4   CATEGORIA      1016 non-null   object        \n",
      " 5   STATUS         1016 non-null   object        \n",
      " 6   DESCRICAO      1016 non-null   object        \n",
      " 7   URL            1016 non-null   object        \n",
      " 8   ANO            1016 non-null   int64         \n",
      " 9   MES            1016 non-null   int64         \n",
      " 10  DIA            1016 non-null   int64         \n",
      " 11  DIA_DO_ANO     1016 non-null   int64         \n",
      " 12  SEMANA_DO_ANO  1016 non-null   int64         \n",
      " 13  DIA_DA_SEMANA  1016 non-null   int64         \n",
      " 14  TRIMETRES      1016 non-null   int64         \n",
      " 15  CASOS          1016 non-null   int64         \n",
      "dtypes: datetime64[ns](1), int64(9), object(6)\n",
      "memory usage: 127.1+ KB\n"
     ]
    }
   ],
   "source": [
    "df.info()"
   ]
  },
  {
   "cell_type": "code",
   "execution_count": 6,
   "metadata": {},
   "outputs": [
    {
     "data": {
      "text/plain": [
       "0      2022-01-09\n",
       "1      2022-01-09\n",
       "2      2022-01-09\n",
       "3      2022-01-09\n",
       "4      2022-01-09\n",
       "          ...    \n",
       "1011   2022-12-09\n",
       "1012   2022-12-09\n",
       "1013   2022-12-09\n",
       "1014   2022-12-09\n",
       "1015   2022-12-09\n",
       "Name: TEMPO, Length: 1016, dtype: datetime64[ns]"
      ]
     },
     "execution_count": 6,
     "metadata": {},
     "output_type": "execute_result"
    }
   ],
   "source": [
    "df['TEMPO']"
   ]
  },
  {
   "cell_type": "code",
   "execution_count": 7,
   "metadata": {},
   "outputs": [
    {
     "data": {
      "text/plain": [
       "<Axes: xlabel='TEMPO'>"
      ]
     },
     "execution_count": 7,
     "metadata": {},
     "output_type": "execute_result"
    },
    {
     "data": {
      "image/png": "[encoded data removed]",
      "text/plain": [
       "<Figure size 640x480 with 1 Axes>"
      ]
     },
     "metadata": {},
     "output_type": "display_data"
    }
   ],
   "source": [
    "df.groupby('TEMPO').nunique()['ID'].plot()"
   ]
  },
  {
   "cell_type": "code",
   "execution_count": 8,
   "metadata": {},
   "outputs": [
    {
     "data": {
      "text/plain": [
       "STATUS\n",
       "Não respondida    639\n",
       "Respondida        271\n",
       "Resolvido          67\n",
       "Em réplica         36\n",
       "Não resolvido       3\n",
       "Name: count, dtype: int64"
      ]
     },
     "execution_count": 8,
     "metadata": {},
     "output_type": "execute_result"
    }
   ],
   "source": [
    "df['STATUS'].value_counts()"
   ]
  },
  {
   "cell_type": "code",
   "execution_count": 9,
   "metadata": {},
   "outputs": [],
   "source": [
    "freq_hapvida = df['STATUS'].value_counts().reset_index()\n",
    "freq_hapvida.columns = ['STATUS','Frequencia']"
   ]
  },
  {
   "cell_type": "code",
   "execution_count": 10,
   "metadata": {},
   "outputs": [
    {
     "data": {
      "text/html": [
       "<div>\n",
       "<style scoped>\n",
       "    .dataframe tbody tr th:only-of-type {\n",
       "        vertical-align: middle;\n",
       "    }\n",
       "\n",
       "    .dataframe tbody tr th {\n",
       "        vertical-align: top;\n",
       "    }\n",
       "\n",
       "    .dataframe thead th {\n",
       "        text-align: right;\n",
       "    }\n",
       "</style>\n",
       "<table border=\"1\" class=\"dataframe\">\n",
       "  <thead>\n",
       "    <tr style=\"text-align: right;\">\n",
       "      <th></th>\n",
       "      <th>STATUS</th>\n",
       "      <th>Frequencia</th>\n",
       "    </tr>\n",
       "  </thead>\n",
       "  <tbody>\n",
       "    <tr>\n",
       "      <th>0</th>\n",
       "      <td>Não respondida</td>\n",
       "      <td>639</td>\n",
       "    </tr>\n",
       "    <tr>\n",
       "      <th>1</th>\n",
       "      <td>Respondida</td>\n",
       "      <td>271</td>\n",
       "    </tr>\n",
       "    <tr>\n",
       "      <th>2</th>\n",
       "      <td>Resolvido</td>\n",
       "      <td>67</td>\n",
       "    </tr>\n",
       "    <tr>\n",
       "      <th>3</th>\n",
       "      <td>Em réplica</td>\n",
       "      <td>36</td>\n",
       "    </tr>\n",
       "    <tr>\n",
       "      <th>4</th>\n",
       "      <td>Não resolvido</td>\n",
       "      <td>3</td>\n",
       "    </tr>\n",
       "  </tbody>\n",
       "</table>\n",
       "</div>"
      ],
      "text/plain": [
       "           STATUS  Frequencia\n",
       "0  Não respondida         639\n",
       "1      Respondida         271\n",
       "2       Resolvido          67\n",
       "3      Em réplica          36\n",
       "4   Não resolvido           3"
      ]
     },
     "execution_count": 10,
     "metadata": {},
     "output_type": "execute_result"
    }
   ],
   "source": [
    "freq_hapvida"
   ]
  },
  {
   "cell_type": "code",
   "execution_count": 11,
   "metadata": {},
   "outputs": [
    {
     "data": {
      "application/vnd.plotly.v1+json": {
       "config": {
        "plotlyServerURL": "https://plot.ly"
       },
       "data": [
        {
         "alignmentgroup": "True",
         "hovertemplate": "STATUS=%{x}<br>Contagem=%{y}<extra></extra>",
         "legendgroup": "",
         "marker": {
          "color": "#636efa",
          "pattern": {
           "shape": ""
          }
         },
         "name": "",
         "offsetgroup": "",
         "orientation": "v",
         "showlegend": false,
         "textposition": "auto",
         "type": "bar",
         "x": [
          "Não respondida",
          "Respondida",
          "Resolvido",
          "Em réplica",
          "Não resolvido"
         ],
         "xaxis": "x",
         "y": [
          639,
          271,
          67,
          36,
          3
         ],
         "yaxis": "y"
        }
       ],
       "layout": {
        "barmode": "relative",
        "legend": {
         "tracegroupgap": 0
        },
        "template": {
         "data": {
          "bar": [
           {
            "error_x": {
             "color": "#2a3f5f"
            },
            "error_y": {
             "color": "#2a3f5f"
            },
            "marker": {
             "line": {
              "color": "#E5ECF6",
              "width": 0.5
             },
             "pattern": {
              "fillmode": "overlay",
              "size": 10,
              "solidity": 0.2
             }
            },
            "type": "bar"
           }
          ],
          "barpolar": [
           {
            "marker": {
             "line": {
              "color": "#E5ECF6",
              "width": 0.5
             },
             "pattern": {
              "fillmode": "overlay",
              "size": 10,
              "solidity": 0.2
             }
            },
            "type": "barpolar"
           }
          ],
          "carpet": [
           {
            "aaxis": {
             "endlinecolor": "#2a3f5f",
             "gridcolor": "white",
             "linecolor": "white",
             "minorgridcolor": "white",
             "startlinecolor": "#2a3f5f"
            },
            "baxis": {
             "endlinecolor": "#2a3f5f",
             "gridcolor": "white",
             "linecolor": "white",
             "minorgridcolor": "white",
             "startlinecolor": "#2a3f5f"
            },
            "type": "carpet"
           }
          ],
          "choropleth": [
           {
            "colorbar": {
             "outlinewidth": 0,
             "ticks": ""
            },
            "type": "choropleth"
           }
          ],
          "contour": [
           {
            "colorbar": {
             "outlinewidth": 0,
             "ticks": ""
            },
            "colorscale": [
             [
              0,
              "#0d0887"
             ],
             [
              0.1111111111111111,
              "#46039f"
             ],
             [
              0.2222222222222222,
              "#7201a8"
             ],
             [
              0.3333333333333333,
              "#9c179e"
             ],
             [
              0.4444444444444444,
              "#bd3786"
             ],
             [
              0.5555555555555556,
              "#d8576b"
             ],
             [
              0.6666666666666666,
              "#ed7953"
             ],
             [
              0.7777777777777778,
              "#fb9f3a"
             ],
             [
              0.8888888888888888,
              "#fdca26"
             ],
             [
              1,
              "#f0f921"
             ]
            ],
            "type": "contour"
           }
          ],
          "contourcarpet": [
           {
            "colorbar": {
             "outlinewidth": 0,
             "ticks": ""
            },
            "type": "contourcarpet"
           }
          ],
          "heatmap": [
           {
            "colorbar": {
             "outlinewidth": 0,
             "ticks": ""
            },
            "colorscale": [
             [
              0,
              "#0d0887"
             ],
             [
              0.1111111111111111,
              "#46039f"
             ],
             [
              0.2222222222222222,
              "#7201a8"
             ],
             [
              0.3333333333333333,
              "#9c179e"
             ],
             [
              0.4444444444444444,
              "#bd3786"
             ],
             [
              0.5555555555555556,
              "#d8576b"
             ],
             [
              0.6666666666666666,
              "#ed7953"
             ],
             [
              0.7777777777777778,
              "#fb9f3a"
             ],
             [
              0.8888888888888888,
              "#fdca26"
             ],
             [
              1,
              "#f0f921"
             ]
            ],
            "type": "heatmap"
           }
          ],
          "heatmapgl": [
           {
            "colorbar": {
             "outlinewidth": 0,
             "ticks": ""
            },
            "colorscale": [
             [
              0,
              "#0d0887"
             ],
             [
              0.1111111111111111,
              "#46039f"
             ],
             [
              0.2222222222222222,
              "#7201a8"
             ],
             [
              0.3333333333333333,
              "#9c179e"
             ],
             [
              0.4444444444444444,
              "#bd3786"
             ],
             [
              0.5555555555555556,
              "#d8576b"
             ],
             [
              0.6666666666666666,
              "#ed7953"
             ],
             [
              0.7777777777777778,
              "#fb9f3a"
             ],
             [
              0.8888888888888888,
              "#fdca26"
             ],
             [
              1,
              "#f0f921"
             ]
            ],
            "type": "heatmapgl"
           }
          ],
          "histogram": [
           {
            "marker": {
             "pattern": {
              "fillmode": "overlay",
              "size": 10,
              "solidity": 0.2
             }
            },
            "type": "histogram"
           }
          ],
          "histogram2d": [
           {
            "colorbar": {
             "outlinewidth": 0,
             "ticks": ""
            },
            "colorscale": [
             [
              0,
              "#0d0887"
             ],
             [
              0.1111111111111111,
              "#46039f"
             ],
             [
              0.2222222222222222,
              "#7201a8"
             ],
             [
              0.3333333333333333,
              "#9c179e"
             ],
             [
              0.4444444444444444,
              "#bd3786"
             ],
             [
              0.5555555555555556,
              "#d8576b"
             ],
             [
              0.6666666666666666,
              "#ed7953"
             ],
             [
              0.7777777777777778,
              "#fb9f3a"
             ],
             [
              0.8888888888888888,
              "#fdca26"
             ],
             [
              1,
              "#f0f921"
             ]
            ],
            "type": "histogram2d"
           }
          ],
          "histogram2dcontour": [
           {
            "colorbar": {
             "outlinewidth": 0,
             "ticks": ""
            },
            "colorscale": [
             [
              0,
              "#0d0887"
             ],
             [
              0.1111111111111111,
              "#46039f"
             ],
             [
              0.2222222222222222,
              "#7201a8"
             ],
             [
              0.3333333333333333,
              "#9c179e"
             ],
             [
              0.4444444444444444,
              "#bd3786"
             ],
             [
              0.5555555555555556,
              "#d8576b"
             ],
             [
              0.6666666666666666,
              "#ed7953"
             ],
             [
              0.7777777777777778,
              "#fb9f3a"
             ],
             [
              0.8888888888888888,
              "#fdca26"
             ],
             [
              1,
              "#f0f921"
             ]
            ],
            "type": "histogram2dcontour"
           }
          ],
          "mesh3d": [
           {
            "colorbar": {
             "outlinewidth": 0,
             "ticks": ""
            },
            "type": "mesh3d"
           }
          ],
          "parcoords": [
           {
            "line": {
             "colorbar": {
              "outlinewidth": 0,
              "ticks": ""
             }
            },
            "type": "parcoords"
           }
          ],
          "pie": [
           {
            "automargin": true,
            "type": "pie"
           }
          ],
          "scatter": [
           {
            "fillpattern": {
             "fillmode": "overlay",
             "size": 10,
             "solidity": 0.2
            },
            "type": "scatter"
           }
          ],
          "scatter3d": [
           {
            "line": {
             "colorbar": {
              "outlinewidth": 0,
              "ticks": ""
             }
            },
            "marker": {
             "colorbar": {
              "outlinewidth": 0,
              "ticks": ""
             }
            },
            "type": "scatter3d"
           }
          ],
          "scattercarpet": [
           {
            "marker": {
             "colorbar": {
              "outlinewidth": 0,
              "ticks": ""
             }
            },
            "type": "scattercarpet"
           }
          ],
          "scattergeo": [
           {
            "marker": {
             "colorbar": {
              "outlinewidth": 0,
              "ticks": ""
             }
            },
            "type": "scattergeo"
           }
          ],
          "scattergl": [
           {
            "marker": {
             "colorbar": {
              "outlinewidth": 0,
              "ticks": ""
             }
            },
            "type": "scattergl"
           }
          ],
          "scattermapbox": [
           {
            "marker": {
             "colorbar": {
              "outlinewidth": 0,
              "ticks": ""
             }
            },
            "type": "scattermapbox"
           }
          ],
          "scatterpolar": [
           {
            "marker": {
             "colorbar": {
              "outlinewidth": 0,
              "ticks": ""
             }
            },
            "type": "scatterpolar"
           }
          ],
          "scatterpolargl": [
           {
            "marker": {
             "colorbar": {
              "outlinewidth": 0,
              "ticks": ""
             }
            },
            "type": "scatterpolargl"
           }
          ],
          "scatterternary": [
           {
            "marker": {
             "colorbar": {
              "outlinewidth": 0,
              "ticks": ""
             }
            },
            "type": "scatterternary"
           }
          ],
          "surface": [
           {
            "colorbar": {
             "outlinewidth": 0,
             "ticks": ""
            },
            "colorscale": [
             [
              0,
              "#0d0887"
             ],
             [
              0.1111111111111111,
              "#46039f"
             ],
             [
              0.2222222222222222,
              "#7201a8"
             ],
             [
              0.3333333333333333,
              "#9c179e"
             ],
             [
              0.4444444444444444,
              "#bd3786"
             ],
             [
              0.5555555555555556,
              "#d8576b"
             ],
             [
              0.6666666666666666,
              "#ed7953"
             ],
             [
              0.7777777777777778,
              "#fb9f3a"
             ],
             [
              0.8888888888888888,
              "#fdca26"
             ],
             [
              1,
              "#f0f921"
             ]
            ],
            "type": "surface"
           }
          ],
          "table": [
           {
            "cells": {
             "fill": {
              "color": "#EBF0F8"
             },
             "line": {
              "color": "white"
             }
            },
            "header": {
             "fill": {
              "color": "#C8D4E3"
             },
             "line": {
              "color": "white"
             }
            },
            "type": "table"
           }
          ]
         },
         "layout": {
          "annotationdefaults": {
           "arrowcolor": "#2a3f5f",
           "arrowhead": 0,
           "arrowwidth": 1
          },
          "autotypenumbers": "strict",
          "coloraxis": {
           "colorbar": {
            "outlinewidth": 0,
            "ticks": ""
           }
          },
          "colorscale": {
           "diverging": [
            [
             0,
             "#8e0152"
            ],
            [
             0.1,
             "#c51b7d"
            ],
            [
             0.2,
             "#de77ae"
            ],
            [
             0.3,
             "#f1b6da"
            ],
            [
             0.4,
             "#fde0ef"
            ],
            [
             0.5,
             "#f7f7f7"
            ],
            [
             0.6,
             "#e6f5d0"
            ],
            [
             0.7,
             "#b8e186"
            ],
            [
             0.8,
             "#7fbc41"
            ],
            [
             0.9,
             "#4d9221"
            ],
            [
             1,
             "#276419"
            ]
           ],
           "sequential": [
            [
             0,
             "#0d0887"
            ],
            [
             0.1111111111111111,
             "#46039f"
            ],
            [
             0.2222222222222222,
             "#7201a8"
            ],
            [
             0.3333333333333333,
             "#9c179e"
            ],
            [
             0.4444444444444444,
             "#bd3786"
            ],
            [
             0.5555555555555556,
             "#d8576b"
            ],
            [
             0.6666666666666666,
             "#ed7953"
            ],
            [
             0.7777777777777778,
             "#fb9f3a"
            ],
            [
             0.8888888888888888,
             "#fdca26"
            ],
            [
             1,
             "#f0f921"
            ]
           ],
           "sequentialminus": [
            [
             0,
             "#0d0887"
            ],
            [
             0.1111111111111111,
             "#46039f"
            ],
            [
             0.2222222222222222,
             "#7201a8"
            ],
            [
             0.3333333333333333,
             "#9c179e"
            ],
            [
             0.4444444444444444,
             "#bd3786"
            ],
            [
             0.5555555555555556,
             "#d8576b"
            ],
            [
             0.6666666666666666,
             "#ed7953"
            ],
            [
             0.7777777777777778,
             "#fb9f3a"
            ],
            [
             0.8888888888888888,
             "#fdca26"
            ],
            [
             1,
             "#f0f921"
            ]
           ]
          },
          "colorway": [
           "#636efa",
           "#EF553B",
           "#00cc96",
           "#ab63fa",
           "#FFA15A",
           "#19d3f3",
           "#FF6692",
           "#B6E880",
           "#FF97FF",
           "#FECB52"
          ],
          "font": {
           "color": "#2a3f5f"
          },
          "geo": {
           "bgcolor": "white",
           "lakecolor": "white",
           "landcolor": "#E5ECF6",
           "showlakes": true,
           "showland": true,
           "subunitcolor": "white"
          },
          "hoverlabel": {
           "align": "left"
          },
          "hovermode": "closest",
          "mapbox": {
           "style": "light"
          },
          "paper_bgcolor": "white",
          "plot_bgcolor": "#E5ECF6",
          "polar": {
           "angularaxis": {
            "gridcolor": "white",
            "linecolor": "white",
            "ticks": ""
           },
           "bgcolor": "#E5ECF6",
           "radialaxis": {
            "gridcolor": "white",
            "linecolor": "white",
            "ticks": ""
           }
          },
          "scene": {
           "xaxis": {
            "backgroundcolor": "#E5ECF6",
            "gridcolor": "white",
            "gridwidth": 2,
            "linecolor": "white",
            "showbackground": true,
            "ticks": "",
            "zerolinecolor": "white"
           },
           "yaxis": {
            "backgroundcolor": "#E5ECF6",
            "gridcolor": "white",
            "gridwidth": 2,
            "linecolor": "white",
            "showbackground": true,
            "ticks": "",
            "zerolinecolor": "white"
           },
           "zaxis": {
            "backgroundcolor": "#E5ECF6",
            "gridcolor": "white",
            "gridwidth": 2,
            "linecolor": "white",
            "showbackground": true,
            "ticks": "",
            "zerolinecolor": "white"
           }
          },
          "shapedefaults": {
           "line": {
            "color": "#2a3f5f"
           }
          },
          "ternary": {
           "aaxis": {
            "gridcolor": "white",
            "linecolor": "white",
            "ticks": ""
           },
           "baxis": {
            "gridcolor": "white",
            "linecolor": "white",
            "ticks": ""
           },
           "bgcolor": "#E5ECF6",
           "caxis": {
            "gridcolor": "white",
            "linecolor": "white",
            "ticks": ""
           }
          },
          "title": {
           "x": 0.05
          },
          "xaxis": {
           "automargin": true,
           "gridcolor": "white",
           "linecolor": "white",
           "ticks": "",
           "title": {
            "standoff": 15
           },
           "zerolinecolor": "white",
           "zerolinewidth": 2
          },
          "yaxis": {
           "automargin": true,
           "gridcolor": "white",
           "linecolor": "white",
           "ticks": "",
           "title": {
            "standoff": 15
           },
           "zerolinecolor": "white",
           "zerolinewidth": 2
          }
         }
        },
        "title": {
         "text": "Frequência dos Status"
        },
        "xaxis": {
         "anchor": "y",
         "domain": [
          0,
          1
         ],
         "title": {
          "text": "STATUS"
         }
        },
        "yaxis": {
         "anchor": "x",
         "domain": [
          0,
          1
         ],
         "title": {
          "text": "Contagem"
         }
        }
       }
      }
     },
     "metadata": {},
     "output_type": "display_data"
    }
   ],
   "source": [
    "px.bar(freq_hapvida, x='STATUS', y='Frequencia', title='Frequência dos Status', labels={'Frequencia': 'Contagem'})"
   ]
  },
  {
   "cell_type": "code",
   "execution_count": 12,
   "metadata": {},
   "outputs": [
    {
     "data": {
      "text/plain": [
       "'Recife - PE'"
      ]
     },
     "execution_count": 12,
     "metadata": {},
     "output_type": "execute_result"
    }
   ],
   "source": [
    "df['LOCAL'].iloc[0]"
   ]
  },
  {
   "cell_type": "code",
   "execution_count": 13,
   "metadata": {},
   "outputs": [
    {
     "data": {
      "text/plain": [
       "'PE'"
      ]
     },
     "execution_count": 13,
     "metadata": {},
     "output_type": "execute_result"
    }
   ],
   "source": [
    "df['LOCAL'].iloc[0].split('-')[1].strip()"
   ]
  },
  {
   "cell_type": "code",
   "execution_count": 14,
   "metadata": {},
   "outputs": [],
   "source": [
    "estado_lista = []\n",
    "for i in range(len(df)):\n",
    "    estado_lista.append(df['LOCAL'].iloc[i].split('-',2)[1].strip())"
   ]
  },
  {
   "cell_type": "code",
   "execution_count": null,
   "metadata": {},
   "outputs": [],
   "source": [
    "estado_lista"
   ]
  },
  {
   "cell_type": "code",
   "execution_count": 16,
   "metadata": {},
   "outputs": [],
   "source": [
    "df['ESTADO'] = estado_lista"
   ]
  },
  {
   "cell_type": "code",
   "execution_count": 17,
   "metadata": {},
   "outputs": [
    {
     "data": {
      "text/html": [
       "<div>\n",
       "<style scoped>\n",
       "    .dataframe tbody tr th:only-of-type {\n",
       "        vertical-align: middle;\n",
       "    }\n",
       "\n",
       "    .dataframe tbody tr th {\n",
       "        vertical-align: top;\n",
       "    }\n",
       "\n",
       "    .dataframe thead th {\n",
       "        text-align: right;\n",
       "    }\n",
       "</style>\n",
       "<table border=\"1\" class=\"dataframe\">\n",
       "  <thead>\n",
       "    <tr style=\"text-align: right;\">\n",
       "      <th></th>\n",
       "      <th>ID</th>\n",
       "      <th>TEMA</th>\n",
       "      <th>LOCAL</th>\n",
       "      <th>TEMPO</th>\n",
       "      <th>CATEGORIA</th>\n",
       "      <th>STATUS</th>\n",
       "      <th>DESCRICAO</th>\n",
       "      <th>URL</th>\n",
       "      <th>ANO</th>\n",
       "      <th>MES</th>\n",
       "      <th>DIA</th>\n",
       "      <th>DIA_DO_ANO</th>\n",
       "      <th>SEMANA_DO_ANO</th>\n",
       "      <th>DIA_DA_SEMANA</th>\n",
       "      <th>TRIMETRES</th>\n",
       "      <th>CASOS</th>\n",
       "      <th>ESTADO</th>\n",
       "    </tr>\n",
       "  </thead>\n",
       "  <tbody>\n",
       "    <tr>\n",
       "      <th>0</th>\n",
       "      <td>149490335</td>\n",
       "      <td>TEMPO DE ATENDIMENTO</td>\n",
       "      <td>Recife - PE</td>\n",
       "      <td>2022-01-09</td>\n",
       "      <td>Demora na execução&lt;-&gt;Plano&lt;-&gt;Planos de Saúde&lt;-...</td>\n",
       "      <td>Não respondida</td>\n",
       "      <td>Acabei de sair de uma urgência por causa de at...</td>\n",
       "      <td>https://www.reclameaqui.com.br//hapvida-saude/...</td>\n",
       "      <td>2022</td>\n",
       "      <td>1</td>\n",
       "      <td>9</td>\n",
       "      <td>9</td>\n",
       "      <td>1</td>\n",
       "      <td>6</td>\n",
       "      <td>1</td>\n",
       "      <td>66</td>\n",
       "      <td>PE</td>\n",
       "    </tr>\n",
       "    <tr>\n",
       "      <th>1</th>\n",
       "      <td>149499817</td>\n",
       "      <td>Hapvida não tem nutrólogo</td>\n",
       "      <td>Salvador - BA</td>\n",
       "      <td>2022-01-09</td>\n",
       "      <td>Planos de saúde&lt;-&gt;Qualidade do serviço prestad...</td>\n",
       "      <td>Não respondida</td>\n",
       "      <td>O Hapvida diz que fornece o serviço de nutrólo...</td>\n",
       "      <td>https://www.reclameaqui.com.br//hapvida-saude/...</td>\n",
       "      <td>2022</td>\n",
       "      <td>1</td>\n",
       "      <td>9</td>\n",
       "      <td>9</td>\n",
       "      <td>1</td>\n",
       "      <td>6</td>\n",
       "      <td>1</td>\n",
       "      <td>66</td>\n",
       "      <td>BA</td>\n",
       "    </tr>\n",
       "    <tr>\n",
       "      <th>2</th>\n",
       "      <td>149498293</td>\n",
       "      <td>Descaso de tratamento de Hemodiálise</td>\n",
       "      <td>Olinda - PE</td>\n",
       "      <td>2022-01-09</td>\n",
       "      <td>Demora para autorização de consultas, exames e...</td>\n",
       "      <td>Respondida</td>\n",
       "      <td>Meu irmão Wagner Santiago, estava internado de...</td>\n",
       "      <td>https://www.reclameaqui.com.br//hapvida-saude/...</td>\n",
       "      <td>2022</td>\n",
       "      <td>1</td>\n",
       "      <td>9</td>\n",
       "      <td>9</td>\n",
       "      <td>1</td>\n",
       "      <td>6</td>\n",
       "      <td>1</td>\n",
       "      <td>66</td>\n",
       "      <td>PE</td>\n",
       "    </tr>\n",
       "    <tr>\n",
       "      <th>3</th>\n",
       "      <td>149495455</td>\n",
       "      <td>DESORGANIZAÇÃO E FALTA DE RESOLUÇÃO DE PROBLEMA</td>\n",
       "      <td>Goiânia - GO</td>\n",
       "      <td>2022-01-09</td>\n",
       "      <td>Demora na execução&lt;-&gt;Planos de saúde&lt;-&gt;Planos ...</td>\n",
       "      <td>Não respondida</td>\n",
       "      <td>Agendei pelo chat um procedimento onde fui bem...</td>\n",
       "      <td>https://www.reclameaqui.com.br//hapvida-saude/...</td>\n",
       "      <td>2022</td>\n",
       "      <td>1</td>\n",
       "      <td>9</td>\n",
       "      <td>9</td>\n",
       "      <td>1</td>\n",
       "      <td>6</td>\n",
       "      <td>1</td>\n",
       "      <td>66</td>\n",
       "      <td>GO</td>\n",
       "    </tr>\n",
       "    <tr>\n",
       "      <th>4</th>\n",
       "      <td>149495285</td>\n",
       "      <td>Liberação de Procedimento</td>\n",
       "      <td>Fortaleza - CE</td>\n",
       "      <td>2022-01-09</td>\n",
       "      <td>Planos de saúde&lt;-&gt;Planos de Saúde&lt;-&gt;Hapvida Sa...</td>\n",
       "      <td>Respondida</td>\n",
       "      <td>Paguei fatura do plano em atraso e tal atraso ...</td>\n",
       "      <td>https://www.reclameaqui.com.br//hapvida-saude/...</td>\n",
       "      <td>2022</td>\n",
       "      <td>1</td>\n",
       "      <td>9</td>\n",
       "      <td>9</td>\n",
       "      <td>1</td>\n",
       "      <td>6</td>\n",
       "      <td>1</td>\n",
       "      <td>66</td>\n",
       "      <td>CE</td>\n",
       "    </tr>\n",
       "  </tbody>\n",
       "</table>\n",
       "</div>"
      ],
      "text/plain": [
       "          ID                                             TEMA           LOCAL  \\\n",
       "0  149490335                            TEMPO DE ATENDIMENTO      Recife - PE   \n",
       "1  149499817                       Hapvida não tem nutrólogo    Salvador - BA   \n",
       "2  149498293             Descaso de tratamento de Hemodiálise     Olinda - PE   \n",
       "3  149495455  DESORGANIZAÇÃO E FALTA DE RESOLUÇÃO DE PROBLEMA    Goiânia - GO   \n",
       "4  149495285                       Liberação de Procedimento   Fortaleza - CE   \n",
       "\n",
       "       TEMPO                                          CATEGORIA  \\\n",
       "0 2022-01-09  Demora na execução<->Plano<->Planos de Saúde<-...   \n",
       "1 2022-01-09  Planos de saúde<->Qualidade do serviço prestad...   \n",
       "2 2022-01-09  Demora para autorização de consultas, exames e...   \n",
       "3 2022-01-09  Demora na execução<->Planos de saúde<->Planos ...   \n",
       "4 2022-01-09  Planos de saúde<->Planos de Saúde<->Hapvida Sa...   \n",
       "\n",
       "           STATUS                                          DESCRICAO  \\\n",
       "0  Não respondida  Acabei de sair de uma urgência por causa de at...   \n",
       "1  Não respondida  O Hapvida diz que fornece o serviço de nutrólo...   \n",
       "2      Respondida  Meu irmão Wagner Santiago, estava internado de...   \n",
       "3  Não respondida  Agendei pelo chat um procedimento onde fui bem...   \n",
       "4      Respondida  Paguei fatura do plano em atraso e tal atraso ...   \n",
       "\n",
       "                                                 URL   ANO  MES  DIA  \\\n",
       "0  https://www.reclameaqui.com.br//hapvida-saude/...  2022    1    9   \n",
       "1  https://www.reclameaqui.com.br//hapvida-saude/...  2022    1    9   \n",
       "2  https://www.reclameaqui.com.br//hapvida-saude/...  2022    1    9   \n",
       "3  https://www.reclameaqui.com.br//hapvida-saude/...  2022    1    9   \n",
       "4  https://www.reclameaqui.com.br//hapvida-saude/...  2022    1    9   \n",
       "\n",
       "   DIA_DO_ANO  SEMANA_DO_ANO  DIA_DA_SEMANA  TRIMETRES  CASOS ESTADO  \n",
       "0           9              1              6          1     66     PE  \n",
       "1           9              1              6          1     66     BA  \n",
       "2           9              1              6          1     66     PE  \n",
       "3           9              1              6          1     66     GO  \n",
       "4           9              1              6          1     66     CE  "
      ]
     },
     "execution_count": 17,
     "metadata": {},
     "output_type": "execute_result"
    }
   ],
   "source": [
    "df.head()"
   ]
  },
  {
   "cell_type": "code",
   "execution_count": 18,
   "metadata": {},
   "outputs": [
    {
     "data": {
      "text/plain": [
       "array(['PE', 'BA', 'GO', 'CE', 'SP', 'MA', 'PA', 'AL', 'RN', 'PB', '',\n",
       "       'MS', 'ES', 'AM', 'MT', 'SE', 'MG', 'RS', 'RR', 'RJ', 'SC', 'PI',\n",
       "       'TO', 'DF'], dtype=object)"
      ]
     },
     "execution_count": 18,
     "metadata": {},
     "output_type": "execute_result"
    }
   ],
   "source": [
    "df['ESTADO'].unique()"
   ]
  },
  {
   "cell_type": "code",
   "execution_count": 19,
   "metadata": {},
   "outputs": [
    {
     "data": {
      "text/plain": [
       "ESTADO\n",
       "CE    212\n",
       "PE    173\n",
       "BA    155\n",
       "SP    140\n",
       "GO     91\n",
       "RN     60\n",
       "PB     26\n",
       "AM     24\n",
       "PA     23\n",
       "MS     20\n",
       "AL     19\n",
       "SE     14\n",
       "MA     14\n",
       "MG      8\n",
       "DF      7\n",
       "MT      6\n",
       "SC      6\n",
       "PI      5\n",
       "RS      3\n",
       "RJ      3\n",
       "ES      3\n",
       "        2\n",
       "RR      1\n",
       "TO      1\n",
       "Name: count, dtype: int64"
      ]
     },
     "execution_count": 19,
     "metadata": {},
     "output_type": "execute_result"
    }
   ],
   "source": [
    "df['ESTADO'].value_counts()"
   ]
  },
  {
   "cell_type": "code",
   "execution_count": 20,
   "metadata": {},
   "outputs": [],
   "source": [
    "correcao_estados = {\n",
    "    '': 'Não Consta'\n",
    "}"
   ]
  },
  {
   "cell_type": "code",
   "execution_count": 21,
   "metadata": {},
   "outputs": [],
   "source": [
    "df['ESTADO'] = df['ESTADO'].replace(correcao_estados)"
   ]
  },
  {
   "cell_type": "code",
   "execution_count": 22,
   "metadata": {},
   "outputs": [
    {
     "data": {
      "text/plain": [
       "array(['PE', 'BA', 'GO', 'CE', 'SP', 'MA', 'PA', 'AL', 'RN', 'PB',\n",
       "       'Não Consta', 'MS', 'ES', 'AM', 'MT', 'SE', 'MG', 'RS', 'RR', 'RJ',\n",
       "       'SC', 'PI', 'TO', 'DF'], dtype=object)"
      ]
     },
     "execution_count": 22,
     "metadata": {},
     "output_type": "execute_result"
    }
   ],
   "source": [
    "df['ESTADO'].unique()"
   ]
  },
  {
   "cell_type": "code",
   "execution_count": 23,
   "metadata": {},
   "outputs": [
    {
     "data": {
      "text/plain": [
       "ESTADO\n",
       "CE            212\n",
       "PE            173\n",
       "BA            155\n",
       "SP            140\n",
       "GO             91\n",
       "RN             60\n",
       "PB             26\n",
       "AM             24\n",
       "PA             23\n",
       "MS             20\n",
       "AL             19\n",
       "SE             14\n",
       "MA             14\n",
       "MG              8\n",
       "DF              7\n",
       "MT              6\n",
       "SC              6\n",
       "PI              5\n",
       "RS              3\n",
       "RJ              3\n",
       "ES              3\n",
       "Não Consta      2\n",
       "RR              1\n",
       "TO              1\n",
       "Name: count, dtype: int64"
      ]
     },
     "execution_count": 23,
     "metadata": {},
     "output_type": "execute_result"
    }
   ],
   "source": [
    "df['ESTADO'].value_counts()"
   ]
  },
  {
   "cell_type": "code",
   "execution_count": 24,
   "metadata": {},
   "outputs": [],
   "source": [
    "def count_palavras(texto):\n",
    "    return len(texto.split())"
   ]
  },
  {
   "cell_type": "code",
   "execution_count": 25,
   "metadata": {},
   "outputs": [
    {
     "data": {
      "text/plain": [
       "<Axes: ylabel='Density'>"
      ]
     },
     "execution_count": 25,
     "metadata": {},
     "output_type": "execute_result"
    },
    {
     "data": {
      "image/png": "[encoded data removed]",
      "text/plain": [
       "<Figure size 640x480 with 1 Axes>"
      ]
     },
     "metadata": {},
     "output_type": "display_data"
    }
   ],
   "source": [
    "df['DESCRICAO'].apply(count_palavras).plot(kind='hist',density=True)\n",
    "df['DESCRICAO'].apply(count_palavras).plot.kde()"
   ]
  }
 ],
 "metadata": {
  "kernelspec": {
   "display_name": "Python 3",
   "language": "python",
   "name": "python3"
  },
  "language_info": {
   "codemirror_mode": {
    "name": "ipython",
    "version": 3
   },
   "file_extension": ".py",
   "mimetype": "text/x-python",
   "name": "python",
   "nbconvert_exporter": "python",
   "pygments_lexer": "ipython3",
   "version": "3.11.7"
  }
 },
 "nbformat": 4,
 "nbformat_minor": 2
}
