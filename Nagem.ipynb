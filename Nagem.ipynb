{
 "cells": [
  {
   "cell_type": "code",
   "execution_count": 2,
   "metadata": {},
   "outputs": [],
   "source": [
    "import pandas as pd\n",
    "import plotly.express as px"
   ]
  },
  {
   "cell_type": "code",
   "execution_count": 3,
   "metadata": {},
   "outputs": [],
   "source": [
    "df = pd.read_csv(\"RECLAMEAQUI_NAGEM.csv\") "
   ]
  },
  {
   "cell_type": "code",
   "execution_count": 4,
   "metadata": {},
   "outputs": [
    {
     "data": {
      "text/html": [
       "<div>\n",
       "<style scoped>\n",
       "    .dataframe tbody tr th:only-of-type {\n",
       "        vertical-align: middle;\n",
       "    }\n",
       "\n",
       "    .dataframe tbody tr th {\n",
       "        vertical-align: top;\n",
       "    }\n",
       "\n",
       "    .dataframe thead th {\n",
       "        text-align: right;\n",
       "    }\n",
       "</style>\n",
       "<table border=\"1\" class=\"dataframe\">\n",
       "  <thead>\n",
       "    <tr style=\"text-align: right;\">\n",
       "      <th></th>\n",
       "      <th>ID</th>\n",
       "      <th>TEMA</th>\n",
       "      <th>LOCAL</th>\n",
       "      <th>TEMPO</th>\n",
       "      <th>CATEGORIA</th>\n",
       "      <th>STATUS</th>\n",
       "      <th>DESCRICAO</th>\n",
       "      <th>URL</th>\n",
       "      <th>ANO</th>\n",
       "      <th>MES</th>\n",
       "      <th>DIA</th>\n",
       "      <th>DIA_DO_ANO</th>\n",
       "      <th>SEMANA_DO_ANO</th>\n",
       "      <th>DIA_DA_SEMANA</th>\n",
       "      <th>TRIMETRES</th>\n",
       "      <th>CASOS</th>\n",
       "    </tr>\n",
       "  </thead>\n",
       "  <tbody>\n",
       "    <tr>\n",
       "      <th>0</th>\n",
       "      <td>27859289</td>\n",
       "      <td>Seguro Nagem celular é uma [Editado pelo Recla...</td>\n",
       "      <td>Fortaleza - CE</td>\n",
       "      <td>2017-01-08</td>\n",
       "      <td>Nagem - Loja Física&lt;-&gt;Problemas com o Atendimento</td>\n",
       "      <td>Não resolvido</td>\n",
       "      <td>Comprei um celular LG na loja NAGEM do shoppin...</td>\n",
       "      <td>https://www.reclameaqui.com.br//nagem-loja-fis...</td>\n",
       "      <td>2017</td>\n",
       "      <td>1</td>\n",
       "      <td>8</td>\n",
       "      <td>8</td>\n",
       "      <td>1</td>\n",
       "      <td>6</td>\n",
       "      <td>1</td>\n",
       "      <td>1</td>\n",
       "    </tr>\n",
       "    <tr>\n",
       "      <th>1</th>\n",
       "      <td>28562465</td>\n",
       "      <td>Demora na finalização da venda  / Mau atendimento</td>\n",
       "      <td>Recife - PE</td>\n",
       "      <td>2017-01-09</td>\n",
       "      <td>Nagem - Loja Física</td>\n",
       "      <td>Resolvido</td>\n",
       "      <td>Fui na loja Nagem do Shopping Recife, fiz uma ...</td>\n",
       "      <td>https://www.reclameaqui.com.br//nagem-loja-fis...</td>\n",
       "      <td>2017</td>\n",
       "      <td>1</td>\n",
       "      <td>9</td>\n",
       "      <td>9</td>\n",
       "      <td>2</td>\n",
       "      <td>0</td>\n",
       "      <td>1</td>\n",
       "      <td>1</td>\n",
       "    </tr>\n",
       "    <tr>\n",
       "      <th>2</th>\n",
       "      <td>29249337</td>\n",
       "      <td>Problemas com a troca de produto</td>\n",
       "      <td>Salvador - BA</td>\n",
       "      <td>2017-01-10</td>\n",
       "      <td>Nagem - Loja Física</td>\n",
       "      <td>Respondida</td>\n",
       "      <td>Comprei um celular da Samsung J5 prime no sába...</td>\n",
       "      <td>https://www.reclameaqui.com.br//nagem-loja-fis...</td>\n",
       "      <td>2017</td>\n",
       "      <td>1</td>\n",
       "      <td>10</td>\n",
       "      <td>10</td>\n",
       "      <td>2</td>\n",
       "      <td>1</td>\n",
       "      <td>1</td>\n",
       "      <td>1</td>\n",
       "    </tr>\n",
       "    <tr>\n",
       "      <th>3</th>\n",
       "      <td>29999183</td>\n",
       "      <td>Produto com defeito/desrespeito com o consumidor</td>\n",
       "      <td>Olinda - PE</td>\n",
       "      <td>2017-01-11</td>\n",
       "      <td>Nagem - Loja Física</td>\n",
       "      <td>Respondida</td>\n",
       "      <td>No dia 25 /10 /2017 realizei uma compra de um ...</td>\n",
       "      <td>https://www.reclameaqui.com.br//nagem-loja-fis...</td>\n",
       "      <td>2017</td>\n",
       "      <td>1</td>\n",
       "      <td>11</td>\n",
       "      <td>11</td>\n",
       "      <td>2</td>\n",
       "      <td>2</td>\n",
       "      <td>1</td>\n",
       "      <td>1</td>\n",
       "    </tr>\n",
       "    <tr>\n",
       "      <th>4</th>\n",
       "      <td>30812099</td>\n",
       "      <td>Descaso Comsumidor</td>\n",
       "      <td>Salvador - BA</td>\n",
       "      <td>2017-01-12</td>\n",
       "      <td>TV&lt;-&gt;Blackfriday&lt;-&gt;Tela trincada&lt;-&gt;Eletroeletr...</td>\n",
       "      <td>Não resolvido</td>\n",
       "      <td>Na sexta feira do dia 24/11/2017,fui efetuar u...</td>\n",
       "      <td>https://www.reclameaqui.com.br//nagem-loja-fis...</td>\n",
       "      <td>2017</td>\n",
       "      <td>1</td>\n",
       "      <td>12</td>\n",
       "      <td>12</td>\n",
       "      <td>2</td>\n",
       "      <td>3</td>\n",
       "      <td>1</td>\n",
       "      <td>1</td>\n",
       "    </tr>\n",
       "  </tbody>\n",
       "</table>\n",
       "</div>"
      ],
      "text/plain": [
       "         ID                                               TEMA  \\\n",
       "0  27859289  Seguro Nagem celular é uma [Editado pelo Recla...   \n",
       "1  28562465  Demora na finalização da venda  / Mau atendimento   \n",
       "2  29249337                   Problemas com a troca de produto   \n",
       "3  29999183   Produto com defeito/desrespeito com o consumidor   \n",
       "4  30812099                                 Descaso Comsumidor   \n",
       "\n",
       "            LOCAL       TEMPO  \\\n",
       "0  Fortaleza - CE  2017-01-08   \n",
       "1     Recife - PE  2017-01-09   \n",
       "2   Salvador - BA  2017-01-10   \n",
       "3     Olinda - PE  2017-01-11   \n",
       "4   Salvador - BA  2017-01-12   \n",
       "\n",
       "                                           CATEGORIA         STATUS  \\\n",
       "0  Nagem - Loja Física<->Problemas com o Atendimento  Não resolvido   \n",
       "1                                Nagem - Loja Física      Resolvido   \n",
       "2                                Nagem - Loja Física     Respondida   \n",
       "3                                Nagem - Loja Física     Respondida   \n",
       "4  TV<->Blackfriday<->Tela trincada<->Eletroeletr...  Não resolvido   \n",
       "\n",
       "                                           DESCRICAO  \\\n",
       "0  Comprei um celular LG na loja NAGEM do shoppin...   \n",
       "1  Fui na loja Nagem do Shopping Recife, fiz uma ...   \n",
       "2  Comprei um celular da Samsung J5 prime no sába...   \n",
       "3  No dia 25 /10 /2017 realizei uma compra de um ...   \n",
       "4  Na sexta feira do dia 24/11/2017,fui efetuar u...   \n",
       "\n",
       "                                                 URL   ANO  MES  DIA  \\\n",
       "0  https://www.reclameaqui.com.br//nagem-loja-fis...  2017    1    8   \n",
       "1  https://www.reclameaqui.com.br//nagem-loja-fis...  2017    1    9   \n",
       "2  https://www.reclameaqui.com.br//nagem-loja-fis...  2017    1   10   \n",
       "3  https://www.reclameaqui.com.br//nagem-loja-fis...  2017    1   11   \n",
       "4  https://www.reclameaqui.com.br//nagem-loja-fis...  2017    1   12   \n",
       "\n",
       "   DIA_DO_ANO  SEMANA_DO_ANO  DIA_DA_SEMANA  TRIMETRES  CASOS  \n",
       "0           8              1              6          1      1  \n",
       "1           9              2              0          1      1  \n",
       "2          10              2              1          1      1  \n",
       "3          11              2              2          1      1  \n",
       "4          12              2              3          1      1  "
      ]
     },
     "execution_count": 4,
     "metadata": {},
     "output_type": "execute_result"
    }
   ],
   "source": [
    "df.head(5)"
   ]
  },
  {
   "cell_type": "code",
   "execution_count": 6,
   "metadata": {},
   "outputs": [],
   "source": [
    "df['TEMPO'] = pd.to_datetime(df['TEMPO'])"
   ]
  },
  {
   "cell_type": "code",
   "execution_count": 7,
   "metadata": {},
   "outputs": [
    {
     "name": "stdout",
     "output_type": "stream",
     "text": [
      "<class 'pandas.core.frame.DataFrame'>\n",
      "RangeIndex: 1000 entries, 0 to 999\n",
      "Data columns (total 16 columns):\n",
      " #   Column         Non-Null Count  Dtype         \n",
      "---  ------         --------------  -----         \n",
      " 0   ID             1000 non-null   int64         \n",
      " 1   TEMA           1000 non-null   object        \n",
      " 2   LOCAL          1000 non-null   object        \n",
      " 3   TEMPO          1000 non-null   datetime64[ns]\n",
      " 4   CATEGORIA      1000 non-null   object        \n",
      " 5   STATUS         1000 non-null   object        \n",
      " 6   DESCRICAO      1000 non-null   object        \n",
      " 7   URL            1000 non-null   object        \n",
      " 8   ANO            1000 non-null   int64         \n",
      " 9   MES            1000 non-null   int64         \n",
      " 10  DIA            1000 non-null   int64         \n",
      " 11  DIA_DO_ANO     1000 non-null   int64         \n",
      " 12  SEMANA_DO_ANO  1000 non-null   int64         \n",
      " 13  DIA_DA_SEMANA  1000 non-null   int64         \n",
      " 14  TRIMETRES      1000 non-null   int64         \n",
      " 15  CASOS          1000 non-null   int64         \n",
      "dtypes: datetime64[ns](1), int64(9), object(6)\n",
      "memory usage: 125.1+ KB\n"
     ]
    }
   ],
   "source": [
    "df.info()"
   ]
  },
  {
   "cell_type": "code",
   "execution_count": 8,
   "metadata": {},
   "outputs": [
    {
     "data": {
      "text/plain": [
       "0     2017-01-08\n",
       "1     2017-01-09\n",
       "2     2017-01-10\n",
       "3     2017-01-11\n",
       "4     2017-01-12\n",
       "         ...    \n",
       "995   2022-11-01\n",
       "996   2022-11-08\n",
       "997   2022-12-02\n",
       "998   2022-12-07\n",
       "999   2022-12-08\n",
       "Name: TEMPO, Length: 1000, dtype: datetime64[ns]"
      ]
     },
     "execution_count": 8,
     "metadata": {},
     "output_type": "execute_result"
    }
   ],
   "source": [
    "df['TEMPO']"
   ]
  },
  {
   "cell_type": "code",
   "execution_count": 9,
   "metadata": {},
   "outputs": [
    {
     "data": {
      "text/plain": [
       "<Axes: xlabel='TEMPO'>"
      ]
     },
     "execution_count": 9,
     "metadata": {},
     "output_type": "execute_result"
    },
    {
     "data": {
      "image/png": "[encoded data removed]",
      "text/plain": [
       "<Figure size 640x480 with 1 Axes>"
      ]
     },
     "metadata": {},
     "output_type": "display_data"
    }
   ],
   "source": [
    "df.groupby('TEMPO').nunique()['ID'].plot()"
   ]
  },
  {
   "cell_type": "code",
   "execution_count": 12,
   "metadata": {},
   "outputs": [
    {
     "data": {
      "text/plain": [
       "STATUS\n",
       "Respondida        440\n",
       "Resolvido         238\n",
       "Em réplica        174\n",
       "Não resolvido     147\n",
       "Não respondida      1\n",
       "Name: count, dtype: int64"
      ]
     },
     "execution_count": 12,
     "metadata": {},
     "output_type": "execute_result"
    }
   ],
   "source": [
    "df['STATUS'].value_counts()"
   ]
  },
  {
   "cell_type": "code",
   "execution_count": 13,
   "metadata": {},
   "outputs": [],
   "source": [
    "freq_nagem = df['STATUS'].value_counts().reset_index()\n",
    "freq_nagem.columns = ['STATUS','Frequencia']"
   ]
  },
  {
   "cell_type": "code",
   "execution_count": 14,
   "metadata": {},
   "outputs": [
    {
     "data": {
      "text/html": [
       "<div>\n",
       "<style scoped>\n",
       "    .dataframe tbody tr th:only-of-type {\n",
       "        vertical-align: middle;\n",
       "    }\n",
       "\n",
       "    .dataframe tbody tr th {\n",
       "        vertical-align: top;\n",
       "    }\n",
       "\n",
       "    .dataframe thead th {\n",
       "        text-align: right;\n",
       "    }\n",
       "</style>\n",
       "<table border=\"1\" class=\"dataframe\">\n",
       "  <thead>\n",
       "    <tr style=\"text-align: right;\">\n",
       "      <th></th>\n",
       "      <th>STATUS</th>\n",
       "      <th>Frequencia</th>\n",
       "    </tr>\n",
       "  </thead>\n",
       "  <tbody>\n",
       "    <tr>\n",
       "      <th>0</th>\n",
       "      <td>Respondida</td>\n",
       "      <td>440</td>\n",
       "    </tr>\n",
       "    <tr>\n",
       "      <th>1</th>\n",
       "      <td>Resolvido</td>\n",
       "      <td>238</td>\n",
       "    </tr>\n",
       "    <tr>\n",
       "      <th>2</th>\n",
       "      <td>Em réplica</td>\n",
       "      <td>174</td>\n",
       "    </tr>\n",
       "    <tr>\n",
       "      <th>3</th>\n",
       "      <td>Não resolvido</td>\n",
       "      <td>147</td>\n",
       "    </tr>\n",
       "    <tr>\n",
       "      <th>4</th>\n",
       "      <td>Não respondida</td>\n",
       "      <td>1</td>\n",
       "    </tr>\n",
       "  </tbody>\n",
       "</table>\n",
       "</div>"
      ],
      "text/plain": [
       "           STATUS  Frequencia\n",
       "0      Respondida         440\n",
       "1       Resolvido         238\n",
       "2      Em réplica         174\n",
       "3   Não resolvido         147\n",
       "4  Não respondida           1"
      ]
     },
     "execution_count": 14,
     "metadata": {},
     "output_type": "execute_result"
    }
   ],
   "source": [
    "freq_nagem"
   ]
  },
  {
   "cell_type": "code",
   "execution_count": 15,
   "metadata": {},
   "outputs": [
    {
     "data": {
      "application/vnd.plotly.v1+json": {
       "config": {
        "plotlyServerURL": "https://plot.ly"
       },
       "data": [
        {
         "alignmentgroup": "True",
         "hovertemplate": "STATUS=%{x}<br>Contagem=%{y}<extra></extra>",
         "legendgroup": "",
         "marker": {
          "color": "#636efa",
          "pattern": {
           "shape": ""
          }
         },
         "name": "",
         "offsetgroup": "",
         "orientation": "v",
         "showlegend": false,
         "textposition": "auto",
         "type": "bar",
         "x": [
          "Respondida",
          "Resolvido",
          "Em réplica",
          "Não resolvido",
          "Não respondida"
         ],
         "xaxis": "x",
         "y": [
          440,
          238,
          174,
          147,
          1
         ],
         "yaxis": "y"
        }
       ],
       "layout": {
        "barmode": "relative",
        "legend": {
         "tracegroupgap": 0
        },
        "template": {
         "data": {
          "bar": [
           {
            "error_x": {
             "color": "#2a3f5f"
            },
            "error_y": {
             "color": "#2a3f5f"
            },
            "marker": {
             "line": {
              "color": "#E5ECF6",
              "width": 0.5
             },
             "pattern": {
              "fillmode": "overlay",
              "size": 10,
              "solidity": 0.2
             }
            },
            "type": "bar"
           }
          ],
          "barpolar": [
           {
            "marker": {
             "line": {
              "color": "#E5ECF6",
              "width": 0.5
             },
             "pattern": {
              "fillmode": "overlay",
              "size": 10,
              "solidity": 0.2
             }
            },
            "type": "barpolar"
           }
          ],
          "carpet": [
           {
            "aaxis": {
             "endlinecolor": "#2a3f5f",
             "gridcolor": "white",
             "linecolor": "white",
             "minorgridcolor": "white",
             "startlinecolor": "#2a3f5f"
            },
            "baxis": {
             "endlinecolor": "#2a3f5f",
             "gridcolor": "white",
             "linecolor": "white",
             "minorgridcolor": "white",
             "startlinecolor": "#2a3f5f"
            },
            "type": "carpet"
           }
          ],
          "choropleth": [
           {
            "colorbar": {
             "outlinewidth": 0,
             "ticks": ""
            },
            "type": "choropleth"
           }
          ],
          "contour": [
           {
            "colorbar": {
             "outlinewidth": 0,
             "ticks": ""
            },
            "colorscale": [
             [
              0,
              "#0d0887"
             ],
             [
              0.1111111111111111,
              "#46039f"
             ],
             [
              0.2222222222222222,
              "#7201a8"
             ],
             [
              0.3333333333333333,
              "#9c179e"
             ],
             [
              0.4444444444444444,
              "#bd3786"
             ],
             [
              0.5555555555555556,
              "#d8576b"
             ],
             [
              0.6666666666666666,
              "#ed7953"
             ],
             [
              0.7777777777777778,
              "#fb9f3a"
             ],
             [
              0.8888888888888888,
              "#fdca26"
             ],
             [
              1,
              "#f0f921"
             ]
            ],
            "type": "contour"
           }
          ],
          "contourcarpet": [
           {
            "colorbar": {
             "outlinewidth": 0,
             "ticks": ""
            },
            "type": "contourcarpet"
           }
          ],
          "heatmap": [
           {
            "colorbar": {
             "outlinewidth": 0,
             "ticks": ""
            },
            "colorscale": [
             [
              0,
              "#0d0887"
             ],
             [
              0.1111111111111111,
              "#46039f"
             ],
             [
              0.2222222222222222,
              "#7201a8"
             ],
             [
              0.3333333333333333,
              "#9c179e"
             ],
             [
              0.4444444444444444,
              "#bd3786"
             ],
             [
              0.5555555555555556,
              "#d8576b"
             ],
             [
              0.6666666666666666,
              "#ed7953"
             ],
             [
              0.7777777777777778,
              "#fb9f3a"
             ],
             [
              0.8888888888888888,
              "#fdca26"
             ],
             [
              1,
              "#f0f921"
             ]
            ],
            "type": "heatmap"
           }
          ],
          "heatmapgl": [
           {
            "colorbar": {
             "outlinewidth": 0,
             "ticks": ""
            },
            "colorscale": [
             [
              0,
              "#0d0887"
             ],
             [
              0.1111111111111111,
              "#46039f"
             ],
             [
              0.2222222222222222,
              "#7201a8"
             ],
             [
              0.3333333333333333,
              "#9c179e"
             ],
             [
              0.4444444444444444,
              "#bd3786"
             ],
             [
              0.5555555555555556,
              "#d8576b"
             ],
             [
              0.6666666666666666,
              "#ed7953"
             ],
             [
              0.7777777777777778,
              "#fb9f3a"
             ],
             [
              0.8888888888888888,
              "#fdca26"
             ],
             [
              1,
              "#f0f921"
             ]
            ],
            "type": "heatmapgl"
           }
          ],
          "histogram": [
           {
            "marker": {
             "pattern": {
              "fillmode": "overlay",
              "size": 10,
              "solidity": 0.2
             }
            },
            "type": "histogram"
           }
          ],
          "histogram2d": [
           {
            "colorbar": {
             "outlinewidth": 0,
             "ticks": ""
            },
            "colorscale": [
             [
              0,
              "#0d0887"
             ],
             [
              0.1111111111111111,
              "#46039f"
             ],
             [
              0.2222222222222222,
              "#7201a8"
             ],
             [
              0.3333333333333333,
              "#9c179e"
             ],
             [
              0.4444444444444444,
              "#bd3786"
             ],
             [
              0.5555555555555556,
              "#d8576b"
             ],
             [
              0.6666666666666666,
              "#ed7953"
             ],
             [
              0.7777777777777778,
              "#fb9f3a"
             ],
             [
              0.8888888888888888,
              "#fdca26"
             ],
             [
              1,
              "#f0f921"
             ]
            ],
            "type": "histogram2d"
           }
          ],
          "histogram2dcontour": [
           {
            "colorbar": {
             "outlinewidth": 0,
             "ticks": ""
            },
            "colorscale": [
             [
              0,
              "#0d0887"
             ],
             [
              0.1111111111111111,
              "#46039f"
             ],
             [
              0.2222222222222222,
              "#7201a8"
             ],
             [
              0.3333333333333333,
              "#9c179e"
             ],
             [
              0.4444444444444444,
              "#bd3786"
             ],
             [
              0.5555555555555556,
              "#d8576b"
             ],
             [
              0.6666666666666666,
              "#ed7953"
             ],
             [
              0.7777777777777778,
              "#fb9f3a"
             ],
             [
              0.8888888888888888,
              "#fdca26"
             ],
             [
              1,
              "#f0f921"
             ]
            ],
            "type": "histogram2dcontour"
           }
          ],
          "mesh3d": [
           {
            "colorbar": {
             "outlinewidth": 0,
             "ticks": ""
            },
            "type": "mesh3d"
           }
          ],
          "parcoords": [
           {
            "line": {
             "colorbar": {
              "outlinewidth": 0,
              "ticks": ""
             }
            },
            "type": "parcoords"
           }
          ],
          "pie": [
           {
            "automargin": true,
            "type": "pie"
           }
          ],
          "scatter": [
           {
            "fillpattern": {
             "fillmode": "overlay",
             "size": 10,
             "solidity": 0.2
            },
            "type": "scatter"
           }
          ],
          "scatter3d": [
           {
            "line": {
             "colorbar": {
              "outlinewidth": 0,
              "ticks": ""
             }
            },
            "marker": {
             "colorbar": {
              "outlinewidth": 0,
              "ticks": ""
             }
            },
            "type": "scatter3d"
           }
          ],
          "scattercarpet": [
           {
            "marker": {
             "colorbar": {
              "outlinewidth": 0,
              "ticks": ""
             }
            },
            "type": "scattercarpet"
           }
          ],
          "scattergeo": [
           {
            "marker": {
             "colorbar": {
              "outlinewidth": 0,
              "ticks": ""
             }
            },
            "type": "scattergeo"
           }
          ],
          "scattergl": [
           {
            "marker": {
             "colorbar": {
              "outlinewidth": 0,
              "ticks": ""
             }
            },
            "type": "scattergl"
           }
          ],
          "scattermapbox": [
           {
            "marker": {
             "colorbar": {
              "outlinewidth": 0,
              "ticks": ""
             }
            },
            "type": "scattermapbox"
           }
          ],
          "scatterpolar": [
           {
            "marker": {
             "colorbar": {
              "outlinewidth": 0,
              "ticks": ""
             }
            },
            "type": "scatterpolar"
           }
          ],
          "scatterpolargl": [
           {
            "marker": {
             "colorbar": {
              "outlinewidth": 0,
              "ticks": ""
             }
            },
            "type": "scatterpolargl"
           }
          ],
          "scatterternary": [
           {
            "marker": {
             "colorbar": {
              "outlinewidth": 0,
              "ticks": ""
             }
            },
            "type": "scatterternary"
           }
          ],
          "surface": [
           {
            "colorbar": {
             "outlinewidth": 0,
             "ticks": ""
            },
            "colorscale": [
             [
              0,
              "#0d0887"
             ],
             [
              0.1111111111111111,
              "#46039f"
             ],
             [
              0.2222222222222222,
              "#7201a8"
             ],
             [
              0.3333333333333333,
              "#9c179e"
             ],
             [
              0.4444444444444444,
              "#bd3786"
             ],
             [
              0.5555555555555556,
              "#d8576b"
             ],
             [
              0.6666666666666666,
              "#ed7953"
             ],
             [
              0.7777777777777778,
              "#fb9f3a"
             ],
             [
              0.8888888888888888,
              "#fdca26"
             ],
             [
              1,
              "#f0f921"
             ]
            ],
            "type": "surface"
           }
          ],
          "table": [
           {
            "cells": {
             "fill": {
              "color": "#EBF0F8"
             },
             "line": {
              "color": "white"
             }
            },
            "header": {
             "fill": {
              "color": "#C8D4E3"
             },
             "line": {
              "color": "white"
             }
            },
            "type": "table"
           }
          ]
         },
         "layout": {
          "annotationdefaults": {
           "arrowcolor": "#2a3f5f",
           "arrowhead": 0,
           "arrowwidth": 1
          },
          "autotypenumbers": "strict",
          "coloraxis": {
           "colorbar": {
            "outlinewidth": 0,
            "ticks": ""
           }
          },
          "colorscale": {
           "diverging": [
            [
             0,
             "#8e0152"
            ],
            [
             0.1,
             "#c51b7d"
            ],
            [
             0.2,
             "#de77ae"
            ],
            [
             0.3,
             "#f1b6da"
            ],
            [
             0.4,
             "#fde0ef"
            ],
            [
             0.5,
             "#f7f7f7"
            ],
            [
             0.6,
             "#e6f5d0"
            ],
            [
             0.7,
             "#b8e186"
            ],
            [
             0.8,
             "#7fbc41"
            ],
            [
             0.9,
             "#4d9221"
            ],
            [
             1,
             "#276419"
            ]
           ],
           "sequential": [
            [
             0,
             "#0d0887"
            ],
            [
             0.1111111111111111,
             "#46039f"
            ],
            [
             0.2222222222222222,
             "#7201a8"
            ],
            [
             0.3333333333333333,
             "#9c179e"
            ],
            [
             0.4444444444444444,
             "#bd3786"
            ],
            [
             0.5555555555555556,
             "#d8576b"
            ],
            [
             0.6666666666666666,
             "#ed7953"
            ],
            [
             0.7777777777777778,
             "#fb9f3a"
            ],
            [
             0.8888888888888888,
             "#fdca26"
            ],
            [
             1,
             "#f0f921"
            ]
           ],
           "sequentialminus": [
            [
             0,
             "#0d0887"
            ],
            [
             0.1111111111111111,
             "#46039f"
            ],
            [
             0.2222222222222222,
             "#7201a8"
            ],
            [
             0.3333333333333333,
             "#9c179e"
            ],
            [
             0.4444444444444444,
             "#bd3786"
            ],
            [
             0.5555555555555556,
             "#d8576b"
            ],
            [
             0.6666666666666666,
             "#ed7953"
            ],
            [
             0.7777777777777778,
             "#fb9f3a"
            ],
            [
             0.8888888888888888,
             "#fdca26"
            ],
            [
             1,
             "#f0f921"
            ]
           ]
          },
          "colorway": [
           "#636efa",
           "#EF553B",
           "#00cc96",
           "#ab63fa",
           "#FFA15A",
           "#19d3f3",
           "#FF6692",
           "#B6E880",
           "#FF97FF",
           "#FECB52"
          ],
          "font": {
           "color": "#2a3f5f"
          },
          "geo": {
           "bgcolor": "white",
           "lakecolor": "white",
           "landcolor": "#E5ECF6",
           "showlakes": true,
           "showland": true,
           "subunitcolor": "white"
          },
          "hoverlabel": {
           "align": "left"
          },
          "hovermode": "closest",
          "mapbox": {
           "style": "light"
          },
          "paper_bgcolor": "white",
          "plot_bgcolor": "#E5ECF6",
          "polar": {
           "angularaxis": {
            "gridcolor": "white",
            "linecolor": "white",
            "ticks": ""
           },
           "bgcolor": "#E5ECF6",
           "radialaxis": {
            "gridcolor": "white",
            "linecolor": "white",
            "ticks": ""
           }
          },
          "scene": {
           "xaxis": {
            "backgroundcolor": "#E5ECF6",
            "gridcolor": "white",
            "gridwidth": 2,
            "linecolor": "white",
            "showbackground": true,
            "ticks": "",
            "zerolinecolor": "white"
           },
           "yaxis": {
            "backgroundcolor": "#E5ECF6",
            "gridcolor": "white",
            "gridwidth": 2,
            "linecolor": "white",
            "showbackground": true,
            "ticks": "",
            "zerolinecolor": "white"
           },
           "zaxis": {
            "backgroundcolor": "#E5ECF6",
            "gridcolor": "white",
            "gridwidth": 2,
            "linecolor": "white",
            "showbackground": true,
            "ticks": "",
            "zerolinecolor": "white"
           }
          },
          "shapedefaults": {
           "line": {
            "color": "#2a3f5f"
           }
          },
          "ternary": {
           "aaxis": {
            "gridcolor": "white",
            "linecolor": "white",
            "ticks": ""
           },
           "baxis": {
            "gridcolor": "white",
            "linecolor": "white",
            "ticks": ""
           },
           "bgcolor": "#E5ECF6",
           "caxis": {
            "gridcolor": "white",
            "linecolor": "white",
            "ticks": ""
           }
          },
          "title": {
           "x": 0.05
          },
          "xaxis": {
           "automargin": true,
           "gridcolor": "white",
           "linecolor": "white",
           "ticks": "",
           "title": {
            "standoff": 15
           },
           "zerolinecolor": "white",
           "zerolinewidth": 2
          },
          "yaxis": {
           "automargin": true,
           "gridcolor": "white",
           "linecolor": "white",
           "ticks": "",
           "title": {
            "standoff": 15
           },
           "zerolinecolor": "white",
           "zerolinewidth": 2
          }
         }
        },
        "title": {
         "text": "Frequência dos Status"
        },
        "xaxis": {
         "anchor": "y",
         "domain": [
          0,
          1
         ],
         "title": {
          "text": "STATUS"
         }
        },
        "yaxis": {
         "anchor": "x",
         "domain": [
          0,
          1
         ],
         "title": {
          "text": "Contagem"
         }
        }
       }
      }
     },
     "metadata": {},
     "output_type": "display_data"
    }
   ],
   "source": [
    "px.bar(freq_nagem, x='STATUS', y='Frequencia', title='Frequência dos Status', labels={'Frequencia': 'Contagem'})"
   ]
  },
  {
   "cell_type": "code",
   "execution_count": 16,
   "metadata": {},
   "outputs": [
    {
     "data": {
      "text/plain": [
       "'Fortaleza - CE'"
      ]
     },
     "execution_count": 16,
     "metadata": {},
     "output_type": "execute_result"
    }
   ],
   "source": [
    "df['LOCAL'].iloc[0]"
   ]
  },
  {
   "cell_type": "code",
   "execution_count": 18,
   "metadata": {},
   "outputs": [
    {
     "data": {
      "text/plain": [
       "'CE'"
      ]
     },
     "execution_count": 18,
     "metadata": {},
     "output_type": "execute_result"
    }
   ],
   "source": [
    "df['LOCAL'].iloc[0].split('-')[1].strip()"
   ]
  },
  {
   "cell_type": "code",
   "execution_count": 19,
   "metadata": {},
   "outputs": [],
   "source": [
    "estado_lista = []\n",
    "for i in range(len(df)):\n",
    "    estado_lista.append(df['LOCAL'].iloc[i].split('-',2)[1].strip())"
   ]
  },
  {
   "cell_type": "code",
   "execution_count": null,
   "metadata": {},
   "outputs": [],
   "source": [
    "estado_lista"
   ]
  },
  {
   "cell_type": "code",
   "execution_count": 21,
   "metadata": {},
   "outputs": [],
   "source": [
    "df['ESTADO'] = estado_lista"
   ]
  },
  {
   "cell_type": "code",
   "execution_count": 22,
   "metadata": {},
   "outputs": [
    {
     "data": {
      "text/html": [
       "<div>\n",
       "<style scoped>\n",
       "    .dataframe tbody tr th:only-of-type {\n",
       "        vertical-align: middle;\n",
       "    }\n",
       "\n",
       "    .dataframe tbody tr th {\n",
       "        vertical-align: top;\n",
       "    }\n",
       "\n",
       "    .dataframe thead th {\n",
       "        text-align: right;\n",
       "    }\n",
       "</style>\n",
       "<table border=\"1\" class=\"dataframe\">\n",
       "  <thead>\n",
       "    <tr style=\"text-align: right;\">\n",
       "      <th></th>\n",
       "      <th>ID</th>\n",
       "      <th>TEMA</th>\n",
       "      <th>LOCAL</th>\n",
       "      <th>TEMPO</th>\n",
       "      <th>CATEGORIA</th>\n",
       "      <th>STATUS</th>\n",
       "      <th>DESCRICAO</th>\n",
       "      <th>URL</th>\n",
       "      <th>ANO</th>\n",
       "      <th>MES</th>\n",
       "      <th>DIA</th>\n",
       "      <th>DIA_DO_ANO</th>\n",
       "      <th>SEMANA_DO_ANO</th>\n",
       "      <th>DIA_DA_SEMANA</th>\n",
       "      <th>TRIMETRES</th>\n",
       "      <th>CASOS</th>\n",
       "      <th>ESTADO</th>\n",
       "    </tr>\n",
       "  </thead>\n",
       "  <tbody>\n",
       "    <tr>\n",
       "      <th>0</th>\n",
       "      <td>27859289</td>\n",
       "      <td>Seguro Nagem celular é uma [Editado pelo Recla...</td>\n",
       "      <td>Fortaleza - CE</td>\n",
       "      <td>2017-01-08</td>\n",
       "      <td>Nagem - Loja Física&lt;-&gt;Problemas com o Atendimento</td>\n",
       "      <td>Não resolvido</td>\n",
       "      <td>Comprei um celular LG na loja NAGEM do shoppin...</td>\n",
       "      <td>https://www.reclameaqui.com.br//nagem-loja-fis...</td>\n",
       "      <td>2017</td>\n",
       "      <td>1</td>\n",
       "      <td>8</td>\n",
       "      <td>8</td>\n",
       "      <td>1</td>\n",
       "      <td>6</td>\n",
       "      <td>1</td>\n",
       "      <td>1</td>\n",
       "      <td>CE</td>\n",
       "    </tr>\n",
       "    <tr>\n",
       "      <th>1</th>\n",
       "      <td>28562465</td>\n",
       "      <td>Demora na finalização da venda  / Mau atendimento</td>\n",
       "      <td>Recife - PE</td>\n",
       "      <td>2017-01-09</td>\n",
       "      <td>Nagem - Loja Física</td>\n",
       "      <td>Resolvido</td>\n",
       "      <td>Fui na loja Nagem do Shopping Recife, fiz uma ...</td>\n",
       "      <td>https://www.reclameaqui.com.br//nagem-loja-fis...</td>\n",
       "      <td>2017</td>\n",
       "      <td>1</td>\n",
       "      <td>9</td>\n",
       "      <td>9</td>\n",
       "      <td>2</td>\n",
       "      <td>0</td>\n",
       "      <td>1</td>\n",
       "      <td>1</td>\n",
       "      <td>PE</td>\n",
       "    </tr>\n",
       "    <tr>\n",
       "      <th>2</th>\n",
       "      <td>29249337</td>\n",
       "      <td>Problemas com a troca de produto</td>\n",
       "      <td>Salvador - BA</td>\n",
       "      <td>2017-01-10</td>\n",
       "      <td>Nagem - Loja Física</td>\n",
       "      <td>Respondida</td>\n",
       "      <td>Comprei um celular da Samsung J5 prime no sába...</td>\n",
       "      <td>https://www.reclameaqui.com.br//nagem-loja-fis...</td>\n",
       "      <td>2017</td>\n",
       "      <td>1</td>\n",
       "      <td>10</td>\n",
       "      <td>10</td>\n",
       "      <td>2</td>\n",
       "      <td>1</td>\n",
       "      <td>1</td>\n",
       "      <td>1</td>\n",
       "      <td>BA</td>\n",
       "    </tr>\n",
       "    <tr>\n",
       "      <th>3</th>\n",
       "      <td>29999183</td>\n",
       "      <td>Produto com defeito/desrespeito com o consumidor</td>\n",
       "      <td>Olinda - PE</td>\n",
       "      <td>2017-01-11</td>\n",
       "      <td>Nagem - Loja Física</td>\n",
       "      <td>Respondida</td>\n",
       "      <td>No dia 25 /10 /2017 realizei uma compra de um ...</td>\n",
       "      <td>https://www.reclameaqui.com.br//nagem-loja-fis...</td>\n",
       "      <td>2017</td>\n",
       "      <td>1</td>\n",
       "      <td>11</td>\n",
       "      <td>11</td>\n",
       "      <td>2</td>\n",
       "      <td>2</td>\n",
       "      <td>1</td>\n",
       "      <td>1</td>\n",
       "      <td>PE</td>\n",
       "    </tr>\n",
       "    <tr>\n",
       "      <th>4</th>\n",
       "      <td>30812099</td>\n",
       "      <td>Descaso Comsumidor</td>\n",
       "      <td>Salvador - BA</td>\n",
       "      <td>2017-01-12</td>\n",
       "      <td>TV&lt;-&gt;Blackfriday&lt;-&gt;Tela trincada&lt;-&gt;Eletroeletr...</td>\n",
       "      <td>Não resolvido</td>\n",
       "      <td>Na sexta feira do dia 24/11/2017,fui efetuar u...</td>\n",
       "      <td>https://www.reclameaqui.com.br//nagem-loja-fis...</td>\n",
       "      <td>2017</td>\n",
       "      <td>1</td>\n",
       "      <td>12</td>\n",
       "      <td>12</td>\n",
       "      <td>2</td>\n",
       "      <td>3</td>\n",
       "      <td>1</td>\n",
       "      <td>1</td>\n",
       "      <td>BA</td>\n",
       "    </tr>\n",
       "  </tbody>\n",
       "</table>\n",
       "</div>"
      ],
      "text/plain": [
       "         ID                                               TEMA  \\\n",
       "0  27859289  Seguro Nagem celular é uma [Editado pelo Recla...   \n",
       "1  28562465  Demora na finalização da venda  / Mau atendimento   \n",
       "2  29249337                   Problemas com a troca de produto   \n",
       "3  29999183   Produto com defeito/desrespeito com o consumidor   \n",
       "4  30812099                                 Descaso Comsumidor   \n",
       "\n",
       "            LOCAL      TEMPO  \\\n",
       "0  Fortaleza - CE 2017-01-08   \n",
       "1     Recife - PE 2017-01-09   \n",
       "2   Salvador - BA 2017-01-10   \n",
       "3     Olinda - PE 2017-01-11   \n",
       "4   Salvador - BA 2017-01-12   \n",
       "\n",
       "                                           CATEGORIA         STATUS  \\\n",
       "0  Nagem - Loja Física<->Problemas com o Atendimento  Não resolvido   \n",
       "1                                Nagem - Loja Física      Resolvido   \n",
       "2                                Nagem - Loja Física     Respondida   \n",
       "3                                Nagem - Loja Física     Respondida   \n",
       "4  TV<->Blackfriday<->Tela trincada<->Eletroeletr...  Não resolvido   \n",
       "\n",
       "                                           DESCRICAO  \\\n",
       "0  Comprei um celular LG na loja NAGEM do shoppin...   \n",
       "1  Fui na loja Nagem do Shopping Recife, fiz uma ...   \n",
       "2  Comprei um celular da Samsung J5 prime no sába...   \n",
       "3  No dia 25 /10 /2017 realizei uma compra de um ...   \n",
       "4  Na sexta feira do dia 24/11/2017,fui efetuar u...   \n",
       "\n",
       "                                                 URL   ANO  MES  DIA  \\\n",
       "0  https://www.reclameaqui.com.br//nagem-loja-fis...  2017    1    8   \n",
       "1  https://www.reclameaqui.com.br//nagem-loja-fis...  2017    1    9   \n",
       "2  https://www.reclameaqui.com.br//nagem-loja-fis...  2017    1   10   \n",
       "3  https://www.reclameaqui.com.br//nagem-loja-fis...  2017    1   11   \n",
       "4  https://www.reclameaqui.com.br//nagem-loja-fis...  2017    1   12   \n",
       "\n",
       "   DIA_DO_ANO  SEMANA_DO_ANO  DIA_DA_SEMANA  TRIMETRES  CASOS ESTADO  \n",
       "0           8              1              6          1      1     CE  \n",
       "1           9              2              0          1      1     PE  \n",
       "2          10              2              1          1      1     BA  \n",
       "3          11              2              2          1      1     PE  \n",
       "4          12              2              3          1      1     BA  "
      ]
     },
     "execution_count": 22,
     "metadata": {},
     "output_type": "execute_result"
    }
   ],
   "source": [
    "df.head()"
   ]
  },
  {
   "cell_type": "code",
   "execution_count": 23,
   "metadata": {},
   "outputs": [
    {
     "data": {
      "text/plain": [
       "array(['CE', 'PE', 'BA', 'RN', 'SE', 'SP', 'PB', 'MG', 'RJ', 'MA', 'PA',\n",
       "       'SC', 'PI', 'naoconsta', 'AL', 'AM', 'RR', 'DF', 'AP', ''],\n",
       "      dtype=object)"
      ]
     },
     "execution_count": 23,
     "metadata": {},
     "output_type": "execute_result"
    }
   ],
   "source": [
    "df['ESTADO'].unique()"
   ]
  },
  {
   "cell_type": "code",
   "execution_count": 24,
   "metadata": {},
   "outputs": [
    {
     "data": {
      "text/plain": [
       "ESTADO\n",
       "PE           393\n",
       "CE           179\n",
       "BA           156\n",
       "SE            54\n",
       "PB            44\n",
       "PA            39\n",
       "RN            31\n",
       "SP            28\n",
       "MA            27\n",
       "PI            15\n",
       "AL            14\n",
       "RJ             6\n",
       "MG             4\n",
       "DF             4\n",
       "SC             1\n",
       "naoconsta      1\n",
       "AM             1\n",
       "RR             1\n",
       "AP             1\n",
       "               1\n",
       "Name: count, dtype: int64"
      ]
     },
     "execution_count": 24,
     "metadata": {},
     "output_type": "execute_result"
    }
   ],
   "source": [
    "df['ESTADO'].value_counts()"
   ]
  },
  {
   "cell_type": "code",
   "execution_count": 26,
   "metadata": {},
   "outputs": [],
   "source": [
    "correcao_estados = {\n",
    "    'naoconsta': 'Não Consta',\n",
    "    '': 'Não Consta'\n",
    "}"
   ]
  },
  {
   "cell_type": "code",
   "execution_count": 27,
   "metadata": {},
   "outputs": [],
   "source": [
    "df['ESTADO'] = df['ESTADO'].replace(correcao_estados)"
   ]
  },
  {
   "cell_type": "code",
   "execution_count": 28,
   "metadata": {},
   "outputs": [
    {
     "data": {
      "text/plain": [
       "array(['CE', 'PE', 'BA', 'RN', 'SE', 'SP', 'PB', 'MG', 'RJ', 'MA', 'PA',\n",
       "       'SC', 'PI', 'Não Consta', 'AL', 'AM', 'RR', 'DF', 'AP'],\n",
       "      dtype=object)"
      ]
     },
     "execution_count": 28,
     "metadata": {},
     "output_type": "execute_result"
    }
   ],
   "source": [
    "df['ESTADO'].unique()"
   ]
  },
  {
   "cell_type": "code",
   "execution_count": 29,
   "metadata": {},
   "outputs": [
    {
     "data": {
      "text/plain": [
       "ESTADO\n",
       "PE            393\n",
       "CE            179\n",
       "BA            156\n",
       "SE             54\n",
       "PB             44\n",
       "PA             39\n",
       "RN             31\n",
       "SP             28\n",
       "MA             27\n",
       "PI             15\n",
       "AL             14\n",
       "RJ              6\n",
       "MG              4\n",
       "DF              4\n",
       "Não Consta      2\n",
       "SC              1\n",
       "AM              1\n",
       "RR              1\n",
       "AP              1\n",
       "Name: count, dtype: int64"
      ]
     },
     "execution_count": 29,
     "metadata": {},
     "output_type": "execute_result"
    }
   ],
   "source": [
    "df['ESTADO'].value_counts()"
   ]
  },
  {
   "cell_type": "code",
   "execution_count": 30,
   "metadata": {},
   "outputs": [],
   "source": [
    "def count_palavras(texto):\n",
    "    return len(texto.split())"
   ]
  },
  {
   "cell_type": "code",
   "execution_count": 31,
   "metadata": {},
   "outputs": [
    {
     "data": {
      "text/plain": [
       "<Axes: ylabel='Density'>"
      ]
     },
     "execution_count": 31,
     "metadata": {},
     "output_type": "execute_result"
    },
    {
     "data": {
      "image/png": "[encoded data removed]",
      "text/plain": [
       "<Figure size 640x480 with 1 Axes>"
      ]
     },
     "metadata": {},
     "output_type": "display_data"
    }
   ],
   "source": [
    "df['DESCRICAO'].apply(count_palavras).plot(kind='hist',density=True)\n",
    "df['DESCRICAO'].apply(count_palavras).plot.kde()"
   ]
  }
 ],
 "metadata": {
  "kernelspec": {
   "display_name": "Python 3",
   "language": "python",
   "name": "python3"
  },
  "language_info": {
   "codemirror_mode": {
    "name": "ipython",
    "version": 3
   },
   "file_extension": ".py",
   "mimetype": "text/x-python",
   "name": "python",
   "nbconvert_exporter": "python",
   "pygments_lexer": "ipython3",
   "version": "3.11.7"
  }
 },
 "nbformat": 4,
 "nbformat_minor": 2
}
